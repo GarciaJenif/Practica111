{
 "cells": [
  {
   "cell_type": "code",
   "execution_count": null,
   "metadata": {},
   "outputs": [],
   "source": [
    "print(1>3) # false\n",
    "print(3 == 3) # true\n",
    "print(4<3) # false"
   ]
  },
  {
   "cell_type": "code",
   "execution_count": 27,
   "metadata": {},
   "outputs": [
    {
     "data": {
      "text/plain": [
       "False"
      ]
     },
     "execution_count": 27,
     "metadata": {},
     "output_type": "execute_result"
    }
   ],
   "source": [
    "1>3\n"
   ]
  },
  {
   "cell_type": "code",
   "execution_count": 25,
   "metadata": {},
   "outputs": [
    {
     "name": "stdout",
     "output_type": "stream",
     "text": [
      "06-03-2024\n",
      "2005-12-25\n",
      "hoy no es tu cumpleaños\n"
     ]
    }
   ],
   "source": [
    "fecha_hoy= input (\"ingresa la fecha de hoy (año-mes-dia)\")\n",
    "print(fecha_hoy)\n",
    "fecha_nacimiento= input(\"¿en que fecha naciste? (año-mes-dia)\")\n",
    "print(fecha_nacimiento)\n",
    "\n",
    "if fecha_hoy == fecha_nacimiento :\n",
    "    print(\"¡feliz cumpleaños!\")\n",
    "else:\n",
    "    print(\"hoy no es tu cumpleaños\")"
   ]
  },
  {
   "cell_type": "code",
   "execution_count": 26,
   "metadata": {},
   "outputs": [
    {
     "name": "stdout",
     "output_type": "stream",
     "text": [
      "1*5 = 2+3\n",
      "1*5 =5\n",
      "2+3 =5\n",
      "los resultados son iguales\n"
     ]
    }
   ],
   "source": [
    "n1 =int(input(\"por favor ingresa el primer numero:\"))\n",
    "n2 =int(input(\"por favor ingresa el sgundo numero:\"))\n",
    "\n",
    "res_n1 =n1 * 5\n",
    "res_n2 =n2 + 3\n",
    "\n",
    "print(f\"{n1}*5 = {n2}+3\")\n",
    "print(f\"{n1}*5 ={res_n1}\")\n",
    "print(f\"{n2}+3 ={res_n2}\")\n",
    "\n",
    "if res_n1 == res_n2:\n",
    "    print(\"los resultados son iguales\")\n",
    "else:\n",
    "    print(\"los resultados son diferentes.\")"
   ]
  },
  {
   "cell_type": "code",
   "execution_count": 24,
   "metadata": {},
   "outputs": [
    {
     "name": "stdout",
     "output_type": "stream",
     "text": [
      "tu codigo postal esta dentro del rango de entrega\n"
     ]
    }
   ],
   "source": [
    "codigo_postal = int(input(\"por favor ingresa tu codigo postal: \"))\n",
    "if 51364 <= codigo_postal <= 51364:\n",
    "    print(\"tu codigo postal esta dentro del rango de entrega\")\n",
    "else:\n",
    "    print(\"lo siento, tu codigo esta fuera del rango de entrega.\")\n",
    "    "
   ]
  }
 ],
 "metadata": {
  "kernelspec": {
   "display_name": "Python 3",
   "language": "python",
   "name": "python3"
  },
  "language_info": {
   "codemirror_mode": {
    "name": "ipython",
    "version": 3
   },
   "file_extension": ".py",
   "mimetype": "text/x-python",
   "name": "python",
   "nbconvert_exporter": "python",
   "pygments_lexer": "ipython3",
   "version": "0.0.0"
  }
 },
 "nbformat": 4,
 "nbformat_minor": 2
}
